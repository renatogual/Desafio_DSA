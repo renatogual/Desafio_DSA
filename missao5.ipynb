{
 "cells": [
  {
   "cell_type": "markdown",
   "metadata": {},
   "source": [
    "# <font color='blue'>Data Science Academy - Python Fundamentos - Capítulo 7</font>\n",
    "\n",
    "## Download: http://github.com/dsacademybr"
   ]
  },
  {
   "cell_type": "code",
   "execution_count": 42,
   "metadata": {
    "tags": []
   },
   "outputs": [
    {
     "output_type": "stream",
     "name": "stdout",
     "text": "Versão da Linguagem Python Usada Neste Jupyter Notebook: 3.8.3\n"
    }
   ],
   "source": [
    "# Versão da Linguagem Python\n",
    "from platform import python_version\n",
    "print('Versão da Linguagem Python Usada Neste Jupyter Notebook:', python_version())"
   ]
  },
  {
   "cell_type": "markdown",
   "metadata": {},
   "source": [
    "## Missão: Analisar o Comportamento de Compra de Consumidores."
   ]
  },
  {
   "cell_type": "markdown",
   "metadata": {},
   "source": [
    "## Nível de Dificuldade: Alto"
   ]
  },
  {
   "cell_type": "markdown",
   "metadata": {},
   "source": [
    "Você recebeu a tarefa de analisar os dados de compras de um web site! Os dados estão no formato JSON e disponíveis junto com este notebook.\n",
    "\n",
    "No site, cada usuário efetua login usando sua conta pessoal e pode adquirir produtos à medida que navega pela lista de produtos oferecidos. Cada produto possui um valor de venda. Dados de idade e sexo de cada usuário foram coletados e estão fornecidos no arquivo JSON.\n",
    "\n",
    "Seu trabalho é entregar uma análise de comportamento de compra dos consumidores. Esse é um tipo de atividade comum realizado por Cientistas de Dados e o resultado deste trabalho pode ser usado, por exemplo, para alimentar um modelo de Machine Learning e fazer previsões sobre comportamentos futuros.\n",
    "\n",
    "Mas nesta missão você vai analisar o comportamento de compra dos consumidores usando o pacote Pandas da linguagem Python e seu relatório final deve incluir cada um dos seguintes itens:\n",
    "\n",
    "** Contagem de Consumidores **\n",
    "\n",
    "* Número total de consumidores\n",
    "\n",
    "\n",
    "** Análise Geral de Compras **\n",
    "\n",
    "* Número de itens exclusivos\n",
    "* Preço médio de compra\n",
    "* Número total de compras\n",
    "* Rendimento total\n",
    "\n",
    "\n",
    "** Informações Demográficas Por Gênero **\n",
    "\n",
    "* Porcentagem e contagem de compradores masculinos\n",
    "* Porcentagem e contagem de compradores do sexo feminino\n",
    "* Porcentagem e contagem de outros / não divulgados\n",
    "\n",
    "\n",
    "** Análise de Compras Por Gênero **\n",
    "\n",
    "* Número de compras\n",
    "* Preço médio de compra\n",
    "* Valor Total de Compra\n",
    "* Compras por faixa etária\n",
    "\n",
    "\n",
    "** Identifique os 5 principais compradores pelo valor total de compra e, em seguida, liste (em uma tabela): **\n",
    "\n",
    "* Login\n",
    "* Número de compras\n",
    "* Preço médio de compra\n",
    "* Valor Total de Compra\n",
    "* Itens mais populares\n",
    "\n",
    "\n",
    "** Identifique os 5 itens mais populares por contagem de compras e, em seguida, liste (em uma tabela): **\n",
    "\n",
    "* ID do item\n",
    "* Nome do item\n",
    "* Número de compras\n",
    "* Preço do item\n",
    "* Valor Total de Compra\n",
    "* Itens mais lucrativos\n",
    "\n",
    "\n",
    "** Identifique os 5 itens mais lucrativos pelo valor total de compra e, em seguida, liste (em uma tabela): **\n",
    "\n",
    "* ID do item\n",
    "* Nome do item\n",
    "* Número de compras\n",
    "* Preço do item\n",
    "* Valor Total de Compra\n",
    "\n",
    "\n",
    "** Como considerações finais: **\n",
    "\n",
    "* Seu script deve funcionar para o conjunto de dados fornecido.\n",
    "* Você deve usar a Biblioteca Pandas e o Jupyter Notebook.\n"
   ]
  },
  {
   "cell_type": "code",
   "execution_count": 43,
   "metadata": {
    "collapsed": true
   },
   "outputs": [],
   "source": [
    "# Imports\n",
    "import pandas as pd\n",
    "import numpy as np"
   ]
  },
  {
   "cell_type": "code",
   "execution_count": 44,
   "metadata": {},
   "outputs": [
    {
     "output_type": "execute_result",
     "data": {
      "text/plain": "          Login  Idade       Sexo  Item ID  \\\n0     Aelalis34     38  Masculino      165   \n1        Eolo46     21  Masculino      119   \n2   Assastnya25     34  Masculino      174   \n3  Pheusrical25     21  Masculino       92   \n4        Aela59     23  Masculino       63   \n\n                                Nome do Item  Valor  \n0                Bone Crushing Silver Skewer   3.37  \n1  Stormbringer, Dark Blade of Ending Misery   2.32  \n2                            Primitive Blade   2.46  \n3                               Final Critic   1.36  \n4                             Stormfury Mace   1.27  ",
      "text/html": "<div>\n<style scoped>\n    .dataframe tbody tr th:only-of-type {\n        vertical-align: middle;\n    }\n\n    .dataframe tbody tr th {\n        vertical-align: top;\n    }\n\n    .dataframe thead th {\n        text-align: right;\n    }\n</style>\n<table border=\"1\" class=\"dataframe\">\n  <thead>\n    <tr style=\"text-align: right;\">\n      <th></th>\n      <th>Login</th>\n      <th>Idade</th>\n      <th>Sexo</th>\n      <th>Item ID</th>\n      <th>Nome do Item</th>\n      <th>Valor</th>\n    </tr>\n  </thead>\n  <tbody>\n    <tr>\n      <th>0</th>\n      <td>Aelalis34</td>\n      <td>38</td>\n      <td>Masculino</td>\n      <td>165</td>\n      <td>Bone Crushing Silver Skewer</td>\n      <td>3.37</td>\n    </tr>\n    <tr>\n      <th>1</th>\n      <td>Eolo46</td>\n      <td>21</td>\n      <td>Masculino</td>\n      <td>119</td>\n      <td>Stormbringer, Dark Blade of Ending Misery</td>\n      <td>2.32</td>\n    </tr>\n    <tr>\n      <th>2</th>\n      <td>Assastnya25</td>\n      <td>34</td>\n      <td>Masculino</td>\n      <td>174</td>\n      <td>Primitive Blade</td>\n      <td>2.46</td>\n    </tr>\n    <tr>\n      <th>3</th>\n      <td>Pheusrical25</td>\n      <td>21</td>\n      <td>Masculino</td>\n      <td>92</td>\n      <td>Final Critic</td>\n      <td>1.36</td>\n    </tr>\n    <tr>\n      <th>4</th>\n      <td>Aela59</td>\n      <td>23</td>\n      <td>Masculino</td>\n      <td>63</td>\n      <td>Stormfury Mace</td>\n      <td>1.27</td>\n    </tr>\n  </tbody>\n</table>\n</div>"
     },
     "metadata": {},
     "execution_count": 44
    }
   ],
   "source": [
    "# Carrega o arquivo\n",
    "load_file = \"dados_compras.json\"\n",
    "purchase_file = pd.read_json(load_file, orient = \"records\")\n",
    "purchase_file.head()"
   ]
  },
  {
   "cell_type": "markdown",
   "metadata": {},
   "source": [
    "## Informações Sobre os Consumidores"
   ]
  },
  {
   "cell_type": "code",
   "execution_count": 45,
   "metadata": {
    "collapsed": true
   },
   "outputs": [
    {
     "output_type": "execute_result",
     "data": {
      "text/plain": "   Total de consumidores\n0                    573",
      "text/html": "<div>\n<style scoped>\n    .dataframe tbody tr th:only-of-type {\n        vertical-align: middle;\n    }\n\n    .dataframe tbody tr th {\n        vertical-align: top;\n    }\n\n    .dataframe thead th {\n        text-align: right;\n    }\n</style>\n<table border=\"1\" class=\"dataframe\">\n  <thead>\n    <tr style=\"text-align: right;\">\n      <th></th>\n      <th>Total de consumidores</th>\n    </tr>\n  </thead>\n  <tbody>\n    <tr>\n      <th>0</th>\n      <td>573</td>\n    </tr>\n  </tbody>\n</table>\n</div>"
     },
     "metadata": {},
     "execution_count": 45
    }
   ],
   "source": [
    "# Implemente aqui sua solução\n",
    "uniques = purchase_file['Login']\n",
    "uniques = uniques.drop_duplicates() # limpeza dos dados duplicados\n",
    "consumers = uniques.count() # contagem dos consumidores\n",
    "pd.DataFrame({'Total de consumidores': [consumers]}) # transformação para dataframe\n"
   ]
  },
  {
   "cell_type": "markdown",
   "metadata": {},
   "source": [
    "## Análise Geral de Compras"
   ]
  },
  {
   "cell_type": "code",
   "execution_count": 75,
   "metadata": {
    "collapsed": true
   },
   "outputs": [
    {
     "output_type": "execute_result",
     "data": {
      "text/plain": "         Itens exclusivos  Total de compras Valor total Valor médio\nCompras               183               780   $2,286.33       $2.93",
      "text/html": "<div>\n<style scoped>\n    .dataframe tbody tr th:only-of-type {\n        vertical-align: middle;\n    }\n\n    .dataframe tbody tr th {\n        vertical-align: top;\n    }\n\n    .dataframe thead th {\n        text-align: right;\n    }\n</style>\n<table border=\"1\" class=\"dataframe\">\n  <thead>\n    <tr style=\"text-align: right;\">\n      <th></th>\n      <th>Itens exclusivos</th>\n      <th>Total de compras</th>\n      <th>Valor total</th>\n      <th>Valor médio</th>\n    </tr>\n  </thead>\n  <tbody>\n    <tr>\n      <th>Compras</th>\n      <td>183</td>\n      <td>780</td>\n      <td>$2,286.33</td>\n      <td>$2.93</td>\n    </tr>\n  </tbody>\n</table>\n</div>"
     },
     "metadata": {},
     "execution_count": 75
    }
   ],
   "source": [
    "# Número de itens exclusivos\n",
    "items = purchase_file['Item ID'].drop_duplicates()\n",
    "exclusive_items = items.count()\n",
    "\n",
    "# Número total de compras\n",
    "total_purchase = purchase_file.shape[0]\n",
    "\n",
    "# Rendimento total\n",
    "total_yeld = purchase_file['Valor'].sum()\n",
    "\n",
    "# Preço médio de compra\n",
    "average_purchase = total_yeld / total_purchase\n",
    "\n",
    "# Dataframe\n",
    "general_analysis = pd.DataFrame({\n",
    "'Itens exclusivos': [exclusive_items], \n",
    "'Total de compras': [total_purchase], \n",
    "'Valor total': [total_yeld], \n",
    "'Valor médio': [average_purchase]}, index=['Compras'])\n",
    "\n",
    "# Formatação dos dados\n",
    "general_analysis['Valor total'] = general_analysis['Valor total'].map(\"${:,.2f}\".format)\n",
    "general_analysis['Valor médio'] = general_analysis['Valor médio'].map(\"${:,.2f}\".format)\n",
    "general_analysis"
   ]
  },
  {
   "cell_type": "markdown",
   "metadata": {},
   "source": [
    "## Análise Demográfica"
   ]
  },
  {
   "cell_type": "code",
   "execution_count": 76,
   "metadata": {
    "collapsed": true
   },
   "outputs": [
    {
     "output_type": "execute_result",
     "data": {
      "text/plain": "           Masculino Feminino Outros\nTotal            465      100      8\nPercentual    81.15%   17.45%  1.40%",
      "text/html": "<div>\n<style scoped>\n    .dataframe tbody tr th:only-of-type {\n        vertical-align: middle;\n    }\n\n    .dataframe tbody tr th {\n        vertical-align: top;\n    }\n\n    .dataframe thead th {\n        text-align: right;\n    }\n</style>\n<table border=\"1\" class=\"dataframe\">\n  <thead>\n    <tr style=\"text-align: right;\">\n      <th></th>\n      <th>Masculino</th>\n      <th>Feminino</th>\n      <th>Outros</th>\n    </tr>\n  </thead>\n  <tbody>\n    <tr>\n      <th>Total</th>\n      <td>465</td>\n      <td>100</td>\n      <td>8</td>\n    </tr>\n    <tr>\n      <th>Percentual</th>\n      <td>81.15%</td>\n      <td>17.45%</td>\n      <td>1.40%</td>\n    </tr>\n  </tbody>\n</table>\n</div>"
     },
     "metadata": {},
     "execution_count": 76
    }
   ],
   "source": [
    "# Porcentagem e contagem de compradores masculinos\n",
    "consumers_masc = purchase_file.loc[:, ['Login', 'Sexo']]\n",
    "consumers_masc = consumers_masc.drop_duplicates()\n",
    "consumers_masc = consumers_masc[consumers_masc['Sexo'] == 'Masculino'].shape[0]\n",
    "percent_masc = (consumers_masc / consumers)*100\n",
    "\n",
    "\n",
    "# Porcentagem e contagem de compradores do sexo feminino\n",
    "consumers_fem = purchase_file.loc[:, ['Login', 'Sexo']]\n",
    "consumers_fem = consumers_fem.drop_duplicates()\n",
    "consumers_fem = consumers_fem[consumers_fem['Sexo'] == 'Feminino'].shape[0]\n",
    "percent_fem = (consumers_fem / consumers)*100\n",
    "\n",
    "# Porcentagem e contagem de outros / não divulgados\n",
    "consumers_others = purchase_file.loc[:, ['Login', 'Sexo']]\n",
    "consumers_others = consumers_others.drop_duplicates()\n",
    "consumers_others = consumers_others[consumers_others['Sexo'] == 'Outro / Não Divulgado'].shape[0]\n",
    "percent_others = (consumers_others / consumers)*100 \n",
    "\n",
    "# Dataframe \n",
    "demographic_analysis = pd.DataFrame({\n",
    "'Masculino': [consumers_masc, percent_masc], \n",
    "'Feminino':[consumers_fem, percent_fem], \n",
    "'Outros': [consumers_others, percent_others]}, index=['Total', 'Percentual'])\n",
    "\n",
    "# Formatação dos dados\n",
    "demographic_analysis.iloc[1] = demographic_analysis.iloc[1].map(\"{:.2f}%\".format)\n",
    "demographic_analysis\n"
   ]
  },
  {
   "cell_type": "markdown",
   "metadata": {},
   "source": [
    "## Informações Demográficas Por Gênero"
   ]
  },
  {
   "cell_type": "code",
   "execution_count": 48,
   "metadata": {
    "collapsed": true
   },
   "outputs": [],
   "source": [
    "# Número de compras\n",
    "\n",
    "# Preço médio de compra\n",
    "# Valor Total de Compra\n",
    "# Compras por faixa etária"
   ]
  },
  {
   "cell_type": "markdown",
   "metadata": {},
   "source": [
    "## Análise de Compras Por Gênero"
   ]
  },
  {
   "cell_type": "code",
   "execution_count": 49,
   "metadata": {
    "collapsed": true
   },
   "outputs": [],
   "source": [
    "# Implemente aqui sua solução"
   ]
  },
  {
   "cell_type": "markdown",
   "metadata": {},
   "source": [
    "## Consumidores Mais Populares (Top 5)"
   ]
  },
  {
   "cell_type": "code",
   "execution_count": 50,
   "metadata": {
    "collapsed": true
   },
   "outputs": [],
   "source": [
    "# Implemente aqui sua solução"
   ]
  },
  {
   "cell_type": "markdown",
   "metadata": {},
   "source": [
    "## Itens Mais Populares"
   ]
  },
  {
   "cell_type": "code",
   "execution_count": 51,
   "metadata": {
    "collapsed": true
   },
   "outputs": [],
   "source": [
    "# Implemente aqui sua solução"
   ]
  },
  {
   "cell_type": "markdown",
   "metadata": {},
   "source": [
    "## Itens Mais Lucrativos"
   ]
  },
  {
   "cell_type": "code",
   "execution_count": 52,
   "metadata": {
    "collapsed": true
   },
   "outputs": [],
   "source": [
    "# Implemente aqui sua solução"
   ]
  },
  {
   "cell_type": "markdown",
   "metadata": {
    "collapsed": true
   },
   "source": [
    "## Fim"
   ]
  },
  {
   "cell_type": "markdown",
   "metadata": {
    "collapsed": true
   },
   "source": [
    "### Obrigado - Data Science Academy - <a href=\"http://facebook.com/dsacademybr\">facebook.com/dsacademybr</a>"
   ]
  }
 ],
 "metadata": {
  "kernelspec": {
   "display_name": "Python 3",
   "language": "python",
   "name": "python3"
  },
  "language_info": {
   "codemirror_mode": {
    "name": "ipython",
    "version": 3
   },
   "file_extension": ".py",
   "mimetype": "text/x-python",
   "name": "python",
   "nbconvert_exporter": "python",
   "pygments_lexer": "ipython3",
   "version": "3.8.3-final"
  }
 },
 "nbformat": 4,
 "nbformat_minor": 2
}